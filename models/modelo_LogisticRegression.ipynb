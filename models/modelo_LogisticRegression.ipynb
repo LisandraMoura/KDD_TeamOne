{
  "cells": [
    {
      "cell_type": "markdown",
      "metadata": {
        "id": "L3th9zMYfkMJ"
      },
      "source": [
        "# Modelo Logistic Regression\n"
      ]
    },
    {
      "cell_type": "markdown",
      "metadata": {},
      "source": [
        "transformação e modelo"
      ]
    },
    {
      "cell_type": "code",
      "execution_count": 3,
      "metadata": {
        "id": "pnrSqMsCsaYb"
      },
      "outputs": [],
      "source": [
        "import pandas as pd\n",
        "import numpy as np\n",
        "import matplotlib.pyplot as plt\n",
        "import seaborn as sns\n",
        "from sklearn.preprocessing import LabelEncoder, StandardScaler\n",
        "from sklearn.impute import SimpleImputer\n",
        "from sklearn.linear_model import LogisticRegression\n",
        "from sklearn.model_selection import train_test_split, cross_val_score, KFold\n",
        "from sklearn.metrics import accuracy_score, classification_report, confusion_matrix\n",
        "\n",
        "# Carregamento dos dados\n",
        "df = pd.read_csv(\"C:/Users/moura/Projetos/KDD_TeamOne/data/pre_processamento_3_train.csv\")\n"
      ]
    },
    {
      "cell_type": "code",
      "execution_count": 4,
      "metadata": {
        "colab": {
          "base_uri": "https://localhost:8080/"
        },
        "id": "XC9qZutBnBY_",
        "outputId": "faf7e6ed-cf3c-42df-a8b3-dcabcc42ddf9"
      },
      "outputs": [
        {
          "name": "stdout",
          "output_type": "stream",
          "text": [
            "<class 'pandas.core.frame.DataFrame'>\n",
            "RangeIndex: 413266 entries, 0 to 413265\n",
            "Data columns (total 13 columns):\n",
            " #   Column                     Non-Null Count   Dtype  \n",
            "---  ------                     --------------   -----  \n",
            " 0   DS_TIPO_GUIA               413266 non-null  object \n",
            " 1   IDADE                      413266 non-null  int64  \n",
            " 2   DS_TIPO_PREST_SOLICITANTE  413266 non-null  object \n",
            " 3   DS_CBO                     413266 non-null  object \n",
            " 4   DS_CBO_ENCONDED            413266 non-null  int64  \n",
            " 5   DS_INDICACAO_ACIDENTE      413266 non-null  object \n",
            " 6   DS_CARATER_ATENDIMENTO     413266 non-null  object \n",
            " 7   QT_DIA_SOLICITADO          413266 non-null  float64\n",
            " 8   DS_TIPO_ATENDIMENTO        413266 non-null  object \n",
            " 9   CD_CID                     413266 non-null  object \n",
            " 10  DS_TIPO_ITEM               413266 non-null  object \n",
            " 11  QT_SOLICITADA              413266 non-null  float64\n",
            " 12  DS_STATUS_ITEM             413266 non-null  object \n",
            "dtypes: float64(2), int64(2), object(9)\n",
            "memory usage: 41.0+ MB\n"
          ]
        }
      ],
      "source": [
        "df.info()"
      ]
    },
    {
      "cell_type": "code",
      "execution_count": 5,
      "metadata": {
        "colab": {
          "base_uri": "https://localhost:8080/"
        },
        "id": "Bwgk4zQKsdSY",
        "outputId": "9866e641-263d-4a17-ad3f-626f73dd3821"
      },
      "outputs": [
        {
          "name": "stdout",
          "output_type": "stream",
          "text": [
            "               IDADE  DS_CBO_ENCONDED  QT_DIA_SOLICITADO  QT_SOLICITADA\n",
            "count  413266.000000    413266.000000      413266.000000  413266.000000\n",
            "mean       56.366863        37.996305           0.707680      58.918776\n",
            "std        18.791966        13.901086           2.222152    4115.492591\n",
            "min         2.000000         0.000000           0.000000       1.000000\n",
            "25%        46.000000        25.000000           0.000000       1.000000\n",
            "50%        58.000000        41.000000           0.000000       1.000000\n",
            "75%        70.000000        50.000000           1.000000       2.000000\n",
            "max       105.000000        65.000000          55.000000  600343.000000\n"
          ]
        }
      ],
      "source": [
        "# EDA - Visualização de algumas estatísticas básicas e distribuições\n",
        "print(df.describe())"
      ]
    },
    {
      "cell_type": "markdown",
      "metadata": {
        "id": "tbnOXn-vmeD1"
      },
      "source": [
        "# treinamendo do modelo"
      ]
    },
    {
      "cell_type": "code",
      "execution_count": 6,
      "metadata": {
        "colab": {
          "base_uri": "https://localhost:8080/",
          "height": 214
        },
        "id": "PzhTidiIvao6",
        "outputId": "816a4dee-7bfe-4132-8feb-f5a7678a0d68"
      },
      "outputs": [
        {
          "name": "stderr",
          "output_type": "stream",
          "text": [
            "c:\\Users\\moura\\Anaconda3\\envs\\data_mining\\lib\\site-packages\\sklearn\\linear_model\\_logistic.py:460: ConvergenceWarning: lbfgs failed to converge (status=1):\n",
            "STOP: TOTAL NO. of ITERATIONS REACHED LIMIT.\n",
            "\n",
            "Increase the number of iterations (max_iter) or scale the data as shown in:\n",
            "    https://scikit-learn.org/stable/modules/preprocessing.html\n",
            "Please also refer to the documentation for alternative solver options:\n",
            "    https://scikit-learn.org/stable/modules/linear_model.html#logistic-regression\n",
            "  n_iter_i = _check_optimize_result(\n"
          ]
        },
        {
          "data": {
            "text/html": [
              "<style>#sk-container-id-1 {color: black;}#sk-container-id-1 pre{padding: 0;}#sk-container-id-1 div.sk-toggleable {background-color: white;}#sk-container-id-1 label.sk-toggleable__label {cursor: pointer;display: block;width: 100%;margin-bottom: 0;padding: 0.3em;box-sizing: border-box;text-align: center;}#sk-container-id-1 label.sk-toggleable__label-arrow:before {content: \"▸\";float: left;margin-right: 0.25em;color: #696969;}#sk-container-id-1 label.sk-toggleable__label-arrow:hover:before {color: black;}#sk-container-id-1 div.sk-estimator:hover label.sk-toggleable__label-arrow:before {color: black;}#sk-container-id-1 div.sk-toggleable__content {max-height: 0;max-width: 0;overflow: hidden;text-align: left;background-color: #f0f8ff;}#sk-container-id-1 div.sk-toggleable__content pre {margin: 0.2em;color: black;border-radius: 0.25em;background-color: #f0f8ff;}#sk-container-id-1 input.sk-toggleable__control:checked~div.sk-toggleable__content {max-height: 200px;max-width: 100%;overflow: auto;}#sk-container-id-1 input.sk-toggleable__control:checked~label.sk-toggleable__label-arrow:before {content: \"▾\";}#sk-container-id-1 div.sk-estimator input.sk-toggleable__control:checked~label.sk-toggleable__label {background-color: #d4ebff;}#sk-container-id-1 div.sk-label input.sk-toggleable__control:checked~label.sk-toggleable__label {background-color: #d4ebff;}#sk-container-id-1 input.sk-hidden--visually {border: 0;clip: rect(1px 1px 1px 1px);clip: rect(1px, 1px, 1px, 1px);height: 1px;margin: -1px;overflow: hidden;padding: 0;position: absolute;width: 1px;}#sk-container-id-1 div.sk-estimator {font-family: monospace;background-color: #f0f8ff;border: 1px dotted black;border-radius: 0.25em;box-sizing: border-box;margin-bottom: 0.5em;}#sk-container-id-1 div.sk-estimator:hover {background-color: #d4ebff;}#sk-container-id-1 div.sk-parallel-item::after {content: \"\";width: 100%;border-bottom: 1px solid gray;flex-grow: 1;}#sk-container-id-1 div.sk-label:hover label.sk-toggleable__label {background-color: #d4ebff;}#sk-container-id-1 div.sk-serial::before {content: \"\";position: absolute;border-left: 1px solid gray;box-sizing: border-box;top: 0;bottom: 0;left: 50%;z-index: 0;}#sk-container-id-1 div.sk-serial {display: flex;flex-direction: column;align-items: center;background-color: white;padding-right: 0.2em;padding-left: 0.2em;position: relative;}#sk-container-id-1 div.sk-item {position: relative;z-index: 1;}#sk-container-id-1 div.sk-parallel {display: flex;align-items: stretch;justify-content: center;background-color: white;position: relative;}#sk-container-id-1 div.sk-item::before, #sk-container-id-1 div.sk-parallel-item::before {content: \"\";position: absolute;border-left: 1px solid gray;box-sizing: border-box;top: 0;bottom: 0;left: 50%;z-index: -1;}#sk-container-id-1 div.sk-parallel-item {display: flex;flex-direction: column;z-index: 1;position: relative;background-color: white;}#sk-container-id-1 div.sk-parallel-item:first-child::after {align-self: flex-end;width: 50%;}#sk-container-id-1 div.sk-parallel-item:last-child::after {align-self: flex-start;width: 50%;}#sk-container-id-1 div.sk-parallel-item:only-child::after {width: 0;}#sk-container-id-1 div.sk-dashed-wrapped {border: 1px dashed gray;margin: 0 0.4em 0.5em 0.4em;box-sizing: border-box;padding-bottom: 0.4em;background-color: white;}#sk-container-id-1 div.sk-label label {font-family: monospace;font-weight: bold;display: inline-block;line-height: 1.2em;}#sk-container-id-1 div.sk-label-container {text-align: center;}#sk-container-id-1 div.sk-container {/* jupyter's `normalize.less` sets `[hidden] { display: none; }` but bootstrap.min.css set `[hidden] { display: none !important; }` so we also need the `!important` here to be able to override the default hidden behavior on the sphinx rendered scikit-learn.org. See: https://github.com/scikit-learn/scikit-learn/issues/21755 */display: inline-block !important;position: relative;}#sk-container-id-1 div.sk-text-repr-fallback {display: none;}</style><div id=\"sk-container-id-1\" class=\"sk-top-container\"><div class=\"sk-text-repr-fallback\"><pre>LogisticRegression()</pre><b>In a Jupyter environment, please rerun this cell to show the HTML representation or trust the notebook. <br />On GitHub, the HTML representation is unable to render, please try loading this page with nbviewer.org.</b></div><div class=\"sk-container\" hidden><div class=\"sk-item\"><div class=\"sk-estimator sk-toggleable\"><input class=\"sk-toggleable__control sk-hidden--visually\" id=\"sk-estimator-id-1\" type=\"checkbox\" checked><label for=\"sk-estimator-id-1\" class=\"sk-toggleable__label sk-toggleable__label-arrow\">LogisticRegression</label><div class=\"sk-toggleable__content\"><pre>LogisticRegression()</pre></div></div></div></div></div>"
            ],
            "text/plain": [
              "LogisticRegression()"
            ]
          },
          "execution_count": 6,
          "metadata": {},
          "output_type": "execute_result"
        }
      ],
      "source": [
        "# Tratamento de valores ausentes - aplicado apenas a colunas numéricas\n",
        "imputer = SimpleImputer(strategy='mean')\n",
        "df_numeric_imputed = pd.DataFrame(imputer.fit_transform(df.select_dtypes(include=np.number)), columns=df.select_dtypes(include=np.number).columns)\n",
        "\n",
        "# Codificação de variáveis categóricas\n",
        "encoded_columns = pd.DataFrame()\n",
        "for col in df.select_dtypes(include='object').columns:\n",
        "    le = LabelEncoder()\n",
        "    encoded_columns[col + '_encoded'] = le.fit_transform(df[col].astype(str))\n",
        "\n",
        "# Combinando os dados imputados e as colunas codificadas\n",
        "df_imputed = pd.concat([df_numeric_imputed, encoded_columns], axis=1)\n",
        "if 'DS_STATUS_ITEM_encoded' not in df_imputed.columns:\n",
        "    raise ValueError(\"'DS_STATUS_ITEM_encoded' não encontrado em df_imputed.\")\n",
        "\n",
        "# Definindo X e y\n",
        "X = df_imputed.drop('DS_STATUS_ITEM_encoded', axis=1)\n",
        "y = df_imputed['DS_STATUS_ITEM_encoded']\n",
        "\n",
        "if X.empty or y.empty:\n",
        "    raise ValueError(\"X ou y estão vazios. Verifique as operações de pré-processamento.\")\n",
        "\n",
        "# Divisão em conjuntos de treino e teste\n",
        "X_train, X_test, y_train, y_test = train_test_split(X, y, test_size=0.2, random_state=22)\n",
        "\n",
        "# Instanciando e treinando o modelo de Regressão Logística\n",
        "logistic_model = LogisticRegression()\n",
        "logistic_model.fit(X_train, y_train)"
      ]
    },
    {
      "cell_type": "code",
      "execution_count": 7,
      "metadata": {
        "colab": {
          "base_uri": "https://localhost:8080/"
        },
        "id": "hrXQHDpZsnt5",
        "outputId": "962f5474-dad3-4475-b21a-d1fa2605313b"
      },
      "outputs": [
        {
          "name": "stderr",
          "output_type": "stream",
          "text": [
            "c:\\Users\\moura\\Anaconda3\\envs\\data_mining\\lib\\site-packages\\sklearn\\linear_model\\_logistic.py:460: ConvergenceWarning: lbfgs failed to converge (status=1):\n",
            "STOP: TOTAL NO. of ITERATIONS REACHED LIMIT.\n",
            "\n",
            "Increase the number of iterations (max_iter) or scale the data as shown in:\n",
            "    https://scikit-learn.org/stable/modules/preprocessing.html\n",
            "Please also refer to the documentation for alternative solver options:\n",
            "    https://scikit-learn.org/stable/modules/linear_model.html#logistic-regression\n",
            "  n_iter_i = _check_optimize_result(\n",
            "c:\\Users\\moura\\Anaconda3\\envs\\data_mining\\lib\\site-packages\\sklearn\\linear_model\\_logistic.py:460: ConvergenceWarning: lbfgs failed to converge (status=1):\n",
            "STOP: TOTAL NO. of ITERATIONS REACHED LIMIT.\n",
            "\n",
            "Increase the number of iterations (max_iter) or scale the data as shown in:\n",
            "    https://scikit-learn.org/stable/modules/preprocessing.html\n",
            "Please also refer to the documentation for alternative solver options:\n",
            "    https://scikit-learn.org/stable/modules/linear_model.html#logistic-regression\n",
            "  n_iter_i = _check_optimize_result(\n",
            "c:\\Users\\moura\\Anaconda3\\envs\\data_mining\\lib\\site-packages\\sklearn\\linear_model\\_logistic.py:460: ConvergenceWarning: lbfgs failed to converge (status=1):\n",
            "STOP: TOTAL NO. of ITERATIONS REACHED LIMIT.\n",
            "\n",
            "Increase the number of iterations (max_iter) or scale the data as shown in:\n",
            "    https://scikit-learn.org/stable/modules/preprocessing.html\n",
            "Please also refer to the documentation for alternative solver options:\n",
            "    https://scikit-learn.org/stable/modules/linear_model.html#logistic-regression\n",
            "  n_iter_i = _check_optimize_result(\n",
            "c:\\Users\\moura\\Anaconda3\\envs\\data_mining\\lib\\site-packages\\sklearn\\linear_model\\_logistic.py:460: ConvergenceWarning: lbfgs failed to converge (status=1):\n",
            "STOP: TOTAL NO. of ITERATIONS REACHED LIMIT.\n",
            "\n",
            "Increase the number of iterations (max_iter) or scale the data as shown in:\n",
            "    https://scikit-learn.org/stable/modules/preprocessing.html\n",
            "Please also refer to the documentation for alternative solver options:\n",
            "    https://scikit-learn.org/stable/modules/linear_model.html#logistic-regression\n",
            "  n_iter_i = _check_optimize_result(\n"
          ]
        },
        {
          "name": "stdout",
          "output_type": "stream",
          "text": [
            "*****************************************\n",
            "ESCORES DE VALIDAÇÃO CRUZADA: [0.69275534 0.69218298 0.6910457  0.68992051 0.69011409]\n",
            "MÉDIA DOS ESCORES: 0.691203724594772\n",
            "*****************************************\n"
          ]
        },
        {
          "name": "stderr",
          "output_type": "stream",
          "text": [
            "c:\\Users\\moura\\Anaconda3\\envs\\data_mining\\lib\\site-packages\\sklearn\\linear_model\\_logistic.py:460: ConvergenceWarning: lbfgs failed to converge (status=1):\n",
            "STOP: TOTAL NO. of ITERATIONS REACHED LIMIT.\n",
            "\n",
            "Increase the number of iterations (max_iter) or scale the data as shown in:\n",
            "    https://scikit-learn.org/stable/modules/preprocessing.html\n",
            "Please also refer to the documentation for alternative solver options:\n",
            "    https://scikit-learn.org/stable/modules/linear_model.html#logistic-regression\n",
            "  n_iter_i = _check_optimize_result(\n"
          ]
        }
      ],
      "source": [
        "# Validação cruzada\n",
        "kf = KFold(n_splits=5)\n",
        "scores = cross_val_score(logistic_model, X, y, cv=kf)\n",
        "\n",
        "print('*****************************************')\n",
        "print(f\"ESCORES DE VALIDAÇÃO CRUZADA: {scores}\")\n",
        "print(f\"MÉDIA DOS ESCORES: {np.mean(scores)}\")\n",
        "print('*****************************************')"
      ]
    },
    {
      "cell_type": "code",
      "execution_count": 8,
      "metadata": {
        "colab": {
          "base_uri": "https://localhost:8080/"
        },
        "id": "GVhlEtxafgIc",
        "outputId": "bd4e02ef-1aef-466d-a05c-d3d46c0977c6"
      },
      "outputs": [
        {
          "name": "stdout",
          "output_type": "stream",
          "text": [
            "Acurácia: 0.6906138843855106\n",
            "Relatório de Classificação:\n",
            "              precision    recall  f1-score   support\n",
            "\n",
            "           0       0.69      1.00      0.82     57088\n",
            "           1       0.38      0.00      0.00     25566\n",
            "\n",
            "    accuracy                           0.69     82654\n",
            "   macro avg       0.54      0.50      0.41     82654\n",
            "weighted avg       0.60      0.69      0.56     82654\n",
            "\n",
            "*****************************************\n",
            "Matriz de Confusão:\n",
            "[[57072    16]\n",
            " [25556    10]]\n",
            "*****************************************\n"
          ]
        }
      ],
      "source": [
        "# Avaliação do modelo nos dados de teste\n",
        "y_pred = logistic_model.predict(X_test)\n",
        "print(f\"Acurácia: {accuracy_score(y_test, y_pred)}\")\n",
        "print(f\"Relatório de Classificação:\\n{classification_report(y_test, y_pred)}\")\n",
        "print('*****************************************')\n",
        "print(f\"Matriz de Confusão:\\n{confusion_matrix(y_test, y_pred)}\")\n",
        "print('*****************************************')"
      ]
    },
    {
      "cell_type": "markdown",
      "metadata": {
        "id": "PtgppToPmeD3"
      },
      "source": [
        "# Fazendo o dataset de submissão"
      ]
    },
    {
      "cell_type": "code",
      "execution_count": 10,
      "metadata": {
        "id": "Aqa7wvoHmeD3"
      },
      "outputs": [],
      "source": [
        "df_validation = pd.read_csv(\"C:/Users/moura/Projetos/KDD_TeamOne/data/pre_processamento_3_test.csv\")\n"
      ]
    },
    {
      "cell_type": "code",
      "execution_count": 11,
      "metadata": {
        "colab": {
          "base_uri": "https://localhost:8080/"
        },
        "id": "yBwuRUZKtME5",
        "outputId": "d5692607-52c4-4bcb-f984-118b70e09bbf"
      },
      "outputs": [
        {
          "name": "stdout",
          "output_type": "stream",
          "text": [
            "<class 'pandas.core.frame.DataFrame'>\n",
            "RangeIndex: 102410 entries, 0 to 102409\n",
            "Data columns (total 12 columns):\n",
            " #   Column                     Non-Null Count   Dtype  \n",
            "---  ------                     --------------   -----  \n",
            " 0   DS_TIPO_GUIA               102410 non-null  object \n",
            " 1   IDADE                      102410 non-null  int64  \n",
            " 2   DS_TIPO_PREST_SOLICITANTE  102410 non-null  object \n",
            " 3   DS_CBO                     102410 non-null  object \n",
            " 4   DS_CBO_ENCONDED            102410 non-null  int64  \n",
            " 5   DS_INDICACAO_ACIDENTE      102410 non-null  object \n",
            " 6   DS_CARATER_ATENDIMENTO     102410 non-null  object \n",
            " 7   QT_DIA_SOLICITADO          102410 non-null  float64\n",
            " 8   DS_TIPO_ATENDIMENTO        102410 non-null  object \n",
            " 9   CD_CID                     102410 non-null  object \n",
            " 10  DS_TIPO_ITEM               102410 non-null  object \n",
            " 11  QT_SOLICITADA              102410 non-null  float64\n",
            "dtypes: float64(2), int64(2), object(8)\n",
            "memory usage: 9.4+ MB\n"
          ]
        }
      ],
      "source": [
        "df_validation.info()"
      ]
    },
    {
      "cell_type": "code",
      "execution_count": 12,
      "metadata": {
        "id": "Zzzcu68XwHp8"
      },
      "outputs": [],
      "source": [
        "# Tratamento de valores ausentes no dataset de validação\n",
        "df_validation_numeric = pd.DataFrame(imputer.transform(df_validation.select_dtypes(include=np.number)), columns=df_validation.select_dtypes(include=np.number).columns)\n",
        "\n",
        "# Codificação de variáveis categóricas no dataset de validação\n",
        "encoded_columns_validation = pd.DataFrame()\n",
        "for col in df.select_dtypes(include='object').columns:\n",
        "    if col in df_validation.columns:\n",
        "        le = LabelEncoder()\n",
        "        le.fit(df[col].astype(str))  \n",
        "        # Garantir que todas as categorias do conjunto de validação estão no conjunto de treinamento\n",
        "        df_validation[col] = df_validation[col].astype(str).apply(lambda x: x if x in le.classes_ else 'Unknown')\n",
        "        le.classes_ = np.append(le.classes_, 'Unknown')\n",
        "        encoded_columns_validation[col + '_encoded'] = le.transform(df_validation[col])\n",
        "\n",
        "# Combinando os dados imputados e as colunas codificadas para validação\n",
        "df_validation_imputed = pd.concat([df_validation_numeric, encoded_columns_validation], axis=1)\n",
        "\n",
        "# Previsão no dataset de validação\n",
        "X_validation = df_validation_imputed\n",
        "y_pred_validation = logistic_model.predict(X_validation)"
      ]
    },
    {
      "cell_type": "code",
      "execution_count": 13,
      "metadata": {
        "id": "2q_vUplNmeD4"
      },
      "outputs": [],
      "source": [
        "# Criando a coluna ID\n",
        "ids = range(1, len(y_pred_validation) + 1)\n",
        "\n",
        "# Criando o DataFrame com ID e previsões\n",
        "results_df = pd.DataFrame({\n",
        "    'ID': ids,\n",
        "    'DS_STATUS_ITEM': y_pred_validation\n",
        "})"
      ]
    },
    {
      "cell_type": "code",
      "execution_count": 14,
      "metadata": {
        "colab": {
          "base_uri": "https://localhost:8080/",
          "height": 424
        },
        "id": "AiRbmr89meD5",
        "outputId": "d1c69296-fa32-475a-d99b-dee0cbdfdacf"
      },
      "outputs": [
        {
          "data": {
            "text/html": [
              "<div>\n",
              "<style scoped>\n",
              "    .dataframe tbody tr th:only-of-type {\n",
              "        vertical-align: middle;\n",
              "    }\n",
              "\n",
              "    .dataframe tbody tr th {\n",
              "        vertical-align: top;\n",
              "    }\n",
              "\n",
              "    .dataframe thead th {\n",
              "        text-align: right;\n",
              "    }\n",
              "</style>\n",
              "<table border=\"1\" class=\"dataframe\">\n",
              "  <thead>\n",
              "    <tr style=\"text-align: right;\">\n",
              "      <th></th>\n",
              "      <th>ID</th>\n",
              "      <th>DS_STATUS_ITEM</th>\n",
              "    </tr>\n",
              "  </thead>\n",
              "  <tbody>\n",
              "    <tr>\n",
              "      <th>0</th>\n",
              "      <td>1</td>\n",
              "      <td>0</td>\n",
              "    </tr>\n",
              "    <tr>\n",
              "      <th>1</th>\n",
              "      <td>2</td>\n",
              "      <td>0</td>\n",
              "    </tr>\n",
              "    <tr>\n",
              "      <th>2</th>\n",
              "      <td>3</td>\n",
              "      <td>0</td>\n",
              "    </tr>\n",
              "    <tr>\n",
              "      <th>3</th>\n",
              "      <td>4</td>\n",
              "      <td>0</td>\n",
              "    </tr>\n",
              "    <tr>\n",
              "      <th>4</th>\n",
              "      <td>5</td>\n",
              "      <td>0</td>\n",
              "    </tr>\n",
              "    <tr>\n",
              "      <th>...</th>\n",
              "      <td>...</td>\n",
              "      <td>...</td>\n",
              "    </tr>\n",
              "    <tr>\n",
              "      <th>102405</th>\n",
              "      <td>102406</td>\n",
              "      <td>0</td>\n",
              "    </tr>\n",
              "    <tr>\n",
              "      <th>102406</th>\n",
              "      <td>102407</td>\n",
              "      <td>0</td>\n",
              "    </tr>\n",
              "    <tr>\n",
              "      <th>102407</th>\n",
              "      <td>102408</td>\n",
              "      <td>0</td>\n",
              "    </tr>\n",
              "    <tr>\n",
              "      <th>102408</th>\n",
              "      <td>102409</td>\n",
              "      <td>0</td>\n",
              "    </tr>\n",
              "    <tr>\n",
              "      <th>102409</th>\n",
              "      <td>102410</td>\n",
              "      <td>0</td>\n",
              "    </tr>\n",
              "  </tbody>\n",
              "</table>\n",
              "<p>102410 rows × 2 columns</p>\n",
              "</div>"
            ],
            "text/plain": [
              "            ID  DS_STATUS_ITEM\n",
              "0            1               0\n",
              "1            2               0\n",
              "2            3               0\n",
              "3            4               0\n",
              "4            5               0\n",
              "...        ...             ...\n",
              "102405  102406               0\n",
              "102406  102407               0\n",
              "102407  102408               0\n",
              "102408  102409               0\n",
              "102409  102410               0\n",
              "\n",
              "[102410 rows x 2 columns]"
            ]
          },
          "execution_count": 14,
          "metadata": {},
          "output_type": "execute_result"
        }
      ],
      "source": [
        "results_df"
      ]
    },
    {
      "cell_type": "code",
      "execution_count": 15,
      "metadata": {
        "id": "XXYwIa3nmeD5"
      },
      "outputs": [],
      "source": [
        "results_df.to_csv('results_df_LogisticRegression.csv', index=False)\n"
      ]
    }
  ],
  "metadata": {
    "colab": {
      "provenance": []
    },
    "kernelspec": {
      "display_name": "base",
      "language": "python",
      "name": "python3"
    },
    "language_info": {
      "codemirror_mode": {
        "name": "ipython",
        "version": 3
      },
      "file_extension": ".py",
      "mimetype": "text/x-python",
      "name": "python",
      "nbconvert_exporter": "python",
      "pygments_lexer": "ipython3",
      "version": "3.8.18"
    }
  },
  "nbformat": 4,
  "nbformat_minor": 0
}
